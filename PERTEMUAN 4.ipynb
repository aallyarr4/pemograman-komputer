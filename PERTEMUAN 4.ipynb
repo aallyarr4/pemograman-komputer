{
 "cells": [
  {
   "cell_type": "markdown",
   "metadata": {},
   "source": [
    "# pertemuan 4"
   ]
  },
  {
   "cell_type": "markdown",
   "metadata": {},
   "source": [
    "# Konstruksi IF THEN "
   ]
  },
  {
   "cell_type": "code",
   "execution_count": 3,
   "metadata": {},
   "outputs": [
    {
     "name": "stdout",
     "output_type": "stream",
     "text": [
      "20 adalah bilangan GENAP\n"
     ]
    }
   ],
   "source": [
    "angka = int(input(\"masukkan angka\"))\n",
    "\n",
    "if angka % 2 == 0:\n",
    "    print(f\"{angka} adalah bilangan GENAP\")\n"
   ]
  },
  {
   "cell_type": "markdown",
   "metadata": {},
   "source": [
    "# Konstruksi IF THEN ELSE"
   ]
  },
  {
   "cell_type": "code",
   "execution_count": 4,
   "metadata": {},
   "outputs": [
    {
     "name": "stdout",
     "output_type": "stream",
     "text": [
      "2023 bukan tahun kabisat\n"
     ]
    }
   ],
   "source": [
    "tahun = int(input(\"masukkan tahun\"))\n",
    "\n",
    "if (tahun % 4 == 0 and tahun % 100 != 0) or (tahun % 400 == 0):\n",
    "    print(f\"{tahun} adalah tahun kabisat\")\n",
    "else:\n",
    "     print(f\"{tahun} bukan tahun kabisat\")"
   ]
  },
  {
   "cell_type": "code",
   "execution_count": 5,
   "metadata": {},
   "outputs": [
    {
     "name": "stdout",
     "output_type": "stream",
     "text": [
      "2023 bukan tahun kabisat\n"
     ]
    }
   ],
   "source": [
    "match tahun:\n",
    "    case int if (tahun % 4 == 0 and tahun % 100 !=0) | (tahun % 400 == 0):\n",
    "        print(f\"{tahun} adalah tahun kabisat\")\n",
    "    case _:\n",
    "         print(f\"{tahun} bukan tahun kabisat\") "
   ]
  },
  {
   "cell_type": "markdown",
   "metadata": {},
   "source": [
    "# contoh ALGORITMA KALKULATOR"
   ]
  },
  {
   "cell_type": "code",
   "execution_count": 5,
   "metadata": {},
   "outputs": [
    {
     "name": "stdout",
     "output_type": "stream",
     "text": [
      "5 / 6 = 0.8333333333333334\n"
     ]
    }
   ],
   "source": [
    "bil1 = int(input(\"masukkan angka 1\"))\n",
    "bil2 = int(input(\"masukkan angka 2\"))\n",
    "operator = input(\"masukkan operasi yang diinginkan (+, -, *, /)\")\n",
    "\n",
    "if operator ==\"+\":\n",
    "    hasil = bil1 + bil2\n",
    "    print(f\"{bil1} - {bil2} = {hasil}\")\n",
    "elif operator ==\"-\":\n",
    "    hasil = bil1 - bil2 \n",
    "    print(f\"{bil1} * {bil2} = {hasil}\")\n",
    "elif operator == \"*\":\n",
    "    hasil = bil1 * bil2\n",
    "    print(f\"{bil1} * {bil2} = {hasil}\")\n",
    "elif operator == \"/\":\n",
    "    hasil = bil1 / bil2\n",
    "    print(f\"{bil1} / {bil2} = {hasil}\")\n",
    "else:\n",
    "    print(\"operator tidak tersedia\")    "
   ]
  }
 ],
 "metadata": {
  "kernelspec": {
   "display_name": "Python 3",
   "language": "python",
   "name": "python3"
  },
  "language_info": {
   "codemirror_mode": {
    "name": "ipython",
    "version": 3
   },
   "file_extension": ".py",
   "mimetype": "text/x-python",
   "name": "python",
   "nbconvert_exporter": "python",
   "pygments_lexer": "ipython3",
   "version": "3.12.2"
  }
 },
 "nbformat": 4,
 "nbformat_minor": 2
}
